{
 "cells": [
  {
   "cell_type": "code",
   "execution_count": 27,
   "metadata": {},
   "outputs": [],
   "source": [
    "import torch\n",
    "import torchvision\n",
    "from alae import ALAE\n",
    "import numpy as np\n",
    "\n",
    "device = torch.device(\"cuda:0\")"
   ]
  },
  {
   "cell_type": "code",
   "execution_count": 2,
   "metadata": {},
   "outputs": [],
   "source": [
    "mnist_train = torchvision.datasets.MNIST(\n",
    "    '/files/',\n",
    "    train=True,\n",
    "    download=True,\n",
    "    transform=torchvision.transforms.Compose([\n",
    "        torchvision.transforms.ToTensor(),\n",
    "#         torchvision.transforms.Normalize((0.1307,), (0.3081,))\n",
    "    ])\n",
    ")\n",
    "\n",
    "mnist_test = torchvision.datasets.MNIST(\n",
    "    '/files/',\n",
    "    train=False,\n",
    "    download=True,\n",
    "    transform=torchvision.transforms.Compose([\n",
    "        torchvision.transforms.ToTensor(),\n",
    "#         torchvision.transforms.Normalize((0.1307,), (0.3081,))\n",
    "    ])\n",
    ")\n",
    "\n",
    "train_loader = torch.utils.data.DataLoader(mnist_train, batch_size=64, shuffle=True)\n",
    "test_loader = torch.utils.data.DataLoader(mnist_test, batch_size=64, shuffle=True)"
   ]
  },
  {
   "cell_type": "code",
   "execution_count": 3,
   "metadata": {},
   "outputs": [],
   "source": [
    "batches = enumerate(test_loader)\n",
    "batch_idx, (img_tensors, target_int) = next(batches)"
   ]
  },
  {
   "cell_type": "code",
   "execution_count": 4,
   "metadata": {},
   "outputs": [
    {
     "data": {
      "text/plain": [
       "torch.Size([64, 1, 28, 28])"
      ]
     },
     "execution_count": 4,
     "metadata": {},
     "output_type": "execute_result"
    }
   ],
   "source": [
    "img_tensors.shape"
   ]
  },
  {
   "cell_type": "code",
   "execution_count": 5,
   "metadata": {},
   "outputs": [],
   "source": [
    "import matplotlib.pyplot as plt\n",
    "\n",
    "def img_iter():\n",
    "    fig = plt.figure()\n",
    "    for i in range(32):\n",
    "        plt.tight_layout()\n",
    "        plt.imshow(img_tensors[i][0], cmap='gray', interpolation='none')\n",
    "        plt.title(\"Ground Truth: {}\".format(target_int[i]))\n",
    "        plt.xticks([])\n",
    "        plt.yticks([])\n",
    "        yield fig.show()\n",
    "ii = img_iter()"
   ]
  },
  {
   "cell_type": "code",
   "execution_count": 6,
   "metadata": {},
   "outputs": [
    {
     "name": "stderr",
     "output_type": "stream",
     "text": [
      "C:\\Users\\jerme\\anaconda3\\envs\\alae\\lib\\site-packages\\ipykernel_launcher.py:11: UserWarning: Matplotlib is currently using module://ipykernel.pylab.backend_inline, which is a non-GUI backend, so cannot show the figure.\n",
      "  # This is added back by InteractiveShellApp.init_path()\n"
     ]
    },
    {
     "data": {
      "image/png": "[encoded data removed]",
      "text/plain": [
       "<Figure size 432x288 with 1 Axes>"
      ]
     },
     "metadata": {},
     "output_type": "display_data"
    }
   ],
   "source": [
    "next(ii)"
   ]
  },
  {
   "cell_type": "code",
   "execution_count": 7,
   "metadata": {},
   "outputs": [],
   "source": [
    "nn_input = torch.flatten(img_tensors, start_dim=1).to(device)"
   ]
  },
  {
   "cell_type": "code",
   "execution_count": 8,
   "metadata": {},
   "outputs": [
    {
     "data": {
      "text/plain": [
       "torch.Size([64, 784])"
      ]
     },
     "execution_count": 8,
     "metadata": {},
     "output_type": "execute_result"
    }
   ],
   "source": [
    "nn_input.shape"
   ]
  },
  {
   "cell_type": "code",
   "execution_count": 9,
   "metadata": {},
   "outputs": [],
   "source": [
    "alae = ALAE().to(device)"
   ]
  },
  {
   "cell_type": "code",
   "execution_count": 10,
   "metadata": {},
   "outputs": [
    {
     "name": "stderr",
     "output_type": "stream",
     "text": [
      "100%|████████████████████████████████████████████████████████████████████████████████████████████████████| 2/2 [01:08<00:00, 34.45s/it]\n"
     ]
    }
   ],
   "source": [
    "train_hist, test_hist = alae.train(train_loader, test_loader)"
   ]
  },
  {
   "cell_type": "code",
   "execution_count": 11,
   "metadata": {},
   "outputs": [
    {
     "data": {
      "text/html": [
       "<div>\n",
       "<style scoped>\n",
       "    .dataframe tbody tr th:only-of-type {\n",
       "        vertical-align: middle;\n",
       "    }\n",
       "\n",
       "    .dataframe tbody tr th {\n",
       "        vertical-align: top;\n",
       "    }\n",
       "\n",
       "    .dataframe thead th {\n",
       "        text-align: right;\n",
       "    }\n",
       "</style>\n",
       "<table border=\"1\" class=\"dataframe\">\n",
       "  <thead>\n",
       "    <tr style=\"text-align: right;\">\n",
       "      <th></th>\n",
       "      <th>loss_d</th>\n",
       "      <th>loss_g</th>\n",
       "      <th>loss_l</th>\n",
       "      <th>total_loss</th>\n",
       "      <th>epoch</th>\n",
       "      <th>step</th>\n",
       "    </tr>\n",
       "  </thead>\n",
       "  <tbody>\n",
       "    <tr>\n",
       "      <th>0</th>\n",
       "      <td>1.384091</td>\n",
       "      <td>0.720452</td>\n",
       "      <td>0.410135</td>\n",
       "      <td>2.514678</td>\n",
       "      <td>0</td>\n",
       "      <td>0</td>\n",
       "    </tr>\n",
       "    <tr>\n",
       "      <th>1</th>\n",
       "      <td>1.498564</td>\n",
       "      <td>0.457291</td>\n",
       "      <td>0.180140</td>\n",
       "      <td>2.135996</td>\n",
       "      <td>0</td>\n",
       "      <td>50</td>\n",
       "    </tr>\n",
       "    <tr>\n",
       "      <th>2</th>\n",
       "      <td>1.106717</td>\n",
       "      <td>2.244968</td>\n",
       "      <td>0.141026</td>\n",
       "      <td>3.492712</td>\n",
       "      <td>0</td>\n",
       "      <td>100</td>\n",
       "    </tr>\n",
       "    <tr>\n",
       "      <th>3</th>\n",
       "      <td>0.587643</td>\n",
       "      <td>3.466774</td>\n",
       "      <td>0.132609</td>\n",
       "      <td>4.187025</td>\n",
       "      <td>0</td>\n",
       "      <td>150</td>\n",
       "    </tr>\n",
       "    <tr>\n",
       "      <th>4</th>\n",
       "      <td>0.845231</td>\n",
       "      <td>3.560330</td>\n",
       "      <td>0.158026</td>\n",
       "      <td>4.563586</td>\n",
       "      <td>0</td>\n",
       "      <td>200</td>\n",
       "    </tr>\n",
       "    <tr>\n",
       "      <th>5</th>\n",
       "      <td>0.218299</td>\n",
       "      <td>4.292563</td>\n",
       "      <td>0.155153</td>\n",
       "      <td>4.666015</td>\n",
       "      <td>0</td>\n",
       "      <td>250</td>\n",
       "    </tr>\n",
       "    <tr>\n",
       "      <th>6</th>\n",
       "      <td>0.032788</td>\n",
       "      <td>6.086048</td>\n",
       "      <td>0.100340</td>\n",
       "      <td>6.219176</td>\n",
       "      <td>0</td>\n",
       "      <td>300</td>\n",
       "    </tr>\n",
       "    <tr>\n",
       "      <th>7</th>\n",
       "      <td>0.317984</td>\n",
       "      <td>2.814320</td>\n",
       "      <td>0.095803</td>\n",
       "      <td>3.228106</td>\n",
       "      <td>0</td>\n",
       "      <td>350</td>\n",
       "    </tr>\n",
       "    <tr>\n",
       "      <th>8</th>\n",
       "      <td>0.788592</td>\n",
       "      <td>3.270352</td>\n",
       "      <td>0.110525</td>\n",
       "      <td>4.169469</td>\n",
       "      <td>0</td>\n",
       "      <td>400</td>\n",
       "    </tr>\n",
       "    <tr>\n",
       "      <th>9</th>\n",
       "      <td>0.569604</td>\n",
       "      <td>3.839161</td>\n",
       "      <td>0.126040</td>\n",
       "      <td>4.534805</td>\n",
       "      <td>0</td>\n",
       "      <td>450</td>\n",
       "    </tr>\n",
       "    <tr>\n",
       "      <th>10</th>\n",
       "      <td>0.305044</td>\n",
       "      <td>2.111643</td>\n",
       "      <td>0.099963</td>\n",
       "      <td>2.516649</td>\n",
       "      <td>0</td>\n",
       "      <td>500</td>\n",
       "    </tr>\n",
       "    <tr>\n",
       "      <th>11</th>\n",
       "      <td>0.565340</td>\n",
       "      <td>1.281621</td>\n",
       "      <td>0.165577</td>\n",
       "      <td>2.012538</td>\n",
       "      <td>0</td>\n",
       "      <td>550</td>\n",
       "    </tr>\n",
       "    <tr>\n",
       "      <th>12</th>\n",
       "      <td>0.316585</td>\n",
       "      <td>2.695642</td>\n",
       "      <td>0.143476</td>\n",
       "      <td>3.155703</td>\n",
       "      <td>0</td>\n",
       "      <td>600</td>\n",
       "    </tr>\n",
       "    <tr>\n",
       "      <th>13</th>\n",
       "      <td>0.467158</td>\n",
       "      <td>1.467204</td>\n",
       "      <td>0.136858</td>\n",
       "      <td>2.071219</td>\n",
       "      <td>0</td>\n",
       "      <td>650</td>\n",
       "    </tr>\n",
       "    <tr>\n",
       "      <th>14</th>\n",
       "      <td>0.317237</td>\n",
       "      <td>2.968140</td>\n",
       "      <td>0.122712</td>\n",
       "      <td>3.408089</td>\n",
       "      <td>0</td>\n",
       "      <td>700</td>\n",
       "    </tr>\n",
       "    <tr>\n",
       "      <th>15</th>\n",
       "      <td>0.461122</td>\n",
       "      <td>3.363916</td>\n",
       "      <td>0.211449</td>\n",
       "      <td>4.036487</td>\n",
       "      <td>0</td>\n",
       "      <td>750</td>\n",
       "    </tr>\n",
       "    <tr>\n",
       "      <th>16</th>\n",
       "      <td>1.064950</td>\n",
       "      <td>4.266216</td>\n",
       "      <td>0.256154</td>\n",
       "      <td>5.587320</td>\n",
       "      <td>0</td>\n",
       "      <td>800</td>\n",
       "    </tr>\n",
       "    <tr>\n",
       "      <th>17</th>\n",
       "      <td>0.998725</td>\n",
       "      <td>2.685513</td>\n",
       "      <td>0.204655</td>\n",
       "      <td>3.888892</td>\n",
       "      <td>0</td>\n",
       "      <td>850</td>\n",
       "    </tr>\n",
       "    <tr>\n",
       "      <th>18</th>\n",
       "      <td>1.246791</td>\n",
       "      <td>3.425756</td>\n",
       "      <td>0.240693</td>\n",
       "      <td>4.913239</td>\n",
       "      <td>0</td>\n",
       "      <td>900</td>\n",
       "    </tr>\n",
       "    <tr>\n",
       "      <th>19</th>\n",
       "      <td>1.975786</td>\n",
       "      <td>0.167362</td>\n",
       "      <td>0.303403</td>\n",
       "      <td>2.446552</td>\n",
       "      <td>1</td>\n",
       "      <td>938</td>\n",
       "    </tr>\n",
       "    <tr>\n",
       "      <th>20</th>\n",
       "      <td>0.275671</td>\n",
       "      <td>3.850541</td>\n",
       "      <td>0.213829</td>\n",
       "      <td>4.340041</td>\n",
       "      <td>1</td>\n",
       "      <td>988</td>\n",
       "    </tr>\n",
       "    <tr>\n",
       "      <th>21</th>\n",
       "      <td>0.262778</td>\n",
       "      <td>2.098079</td>\n",
       "      <td>0.328641</td>\n",
       "      <td>2.689498</td>\n",
       "      <td>1</td>\n",
       "      <td>1038</td>\n",
       "    </tr>\n",
       "    <tr>\n",
       "      <th>22</th>\n",
       "      <td>0.264374</td>\n",
       "      <td>3.045062</td>\n",
       "      <td>0.238569</td>\n",
       "      <td>3.548005</td>\n",
       "      <td>1</td>\n",
       "      <td>1088</td>\n",
       "    </tr>\n",
       "    <tr>\n",
       "      <th>23</th>\n",
       "      <td>0.818758</td>\n",
       "      <td>1.099156</td>\n",
       "      <td>0.290810</td>\n",
       "      <td>2.208724</td>\n",
       "      <td>1</td>\n",
       "      <td>1138</td>\n",
       "    </tr>\n",
       "    <tr>\n",
       "      <th>24</th>\n",
       "      <td>0.489599</td>\n",
       "      <td>1.245093</td>\n",
       "      <td>0.286418</td>\n",
       "      <td>2.021111</td>\n",
       "      <td>1</td>\n",
       "      <td>1188</td>\n",
       "    </tr>\n",
       "    <tr>\n",
       "      <th>25</th>\n",
       "      <td>0.302739</td>\n",
       "      <td>4.013601</td>\n",
       "      <td>0.261315</td>\n",
       "      <td>4.577656</td>\n",
       "      <td>1</td>\n",
       "      <td>1238</td>\n",
       "    </tr>\n",
       "    <tr>\n",
       "      <th>26</th>\n",
       "      <td>0.460970</td>\n",
       "      <td>3.221849</td>\n",
       "      <td>0.210399</td>\n",
       "      <td>3.893218</td>\n",
       "      <td>1</td>\n",
       "      <td>1288</td>\n",
       "    </tr>\n",
       "    <tr>\n",
       "      <th>27</th>\n",
       "      <td>0.331452</td>\n",
       "      <td>3.192059</td>\n",
       "      <td>0.270766</td>\n",
       "      <td>3.794276</td>\n",
       "      <td>1</td>\n",
       "      <td>1338</td>\n",
       "    </tr>\n",
       "    <tr>\n",
       "      <th>28</th>\n",
       "      <td>0.351363</td>\n",
       "      <td>1.074524</td>\n",
       "      <td>0.259757</td>\n",
       "      <td>1.685644</td>\n",
       "      <td>1</td>\n",
       "      <td>1388</td>\n",
       "    </tr>\n",
       "    <tr>\n",
       "      <th>29</th>\n",
       "      <td>0.317270</td>\n",
       "      <td>4.410154</td>\n",
       "      <td>0.198843</td>\n",
       "      <td>4.926268</td>\n",
       "      <td>1</td>\n",
       "      <td>1438</td>\n",
       "    </tr>\n",
       "    <tr>\n",
       "      <th>30</th>\n",
       "      <td>0.318504</td>\n",
       "      <td>2.353724</td>\n",
       "      <td>0.224802</td>\n",
       "      <td>2.897031</td>\n",
       "      <td>1</td>\n",
       "      <td>1488</td>\n",
       "    </tr>\n",
       "    <tr>\n",
       "      <th>31</th>\n",
       "      <td>0.277021</td>\n",
       "      <td>3.064887</td>\n",
       "      <td>0.320708</td>\n",
       "      <td>3.662615</td>\n",
       "      <td>1</td>\n",
       "      <td>1538</td>\n",
       "    </tr>\n",
       "    <tr>\n",
       "      <th>32</th>\n",
       "      <td>0.424774</td>\n",
       "      <td>2.648620</td>\n",
       "      <td>0.279663</td>\n",
       "      <td>3.353058</td>\n",
       "      <td>1</td>\n",
       "      <td>1588</td>\n",
       "    </tr>\n",
       "    <tr>\n",
       "      <th>33</th>\n",
       "      <td>0.499658</td>\n",
       "      <td>2.973578</td>\n",
       "      <td>0.272172</td>\n",
       "      <td>3.745408</td>\n",
       "      <td>1</td>\n",
       "      <td>1638</td>\n",
       "    </tr>\n",
       "    <tr>\n",
       "      <th>34</th>\n",
       "      <td>0.337168</td>\n",
       "      <td>3.250835</td>\n",
       "      <td>0.307190</td>\n",
       "      <td>3.895193</td>\n",
       "      <td>1</td>\n",
       "      <td>1688</td>\n",
       "    </tr>\n",
       "    <tr>\n",
       "      <th>35</th>\n",
       "      <td>0.116845</td>\n",
       "      <td>3.411164</td>\n",
       "      <td>0.268604</td>\n",
       "      <td>3.796613</td>\n",
       "      <td>1</td>\n",
       "      <td>1738</td>\n",
       "    </tr>\n",
       "    <tr>\n",
       "      <th>36</th>\n",
       "      <td>0.140495</td>\n",
       "      <td>2.736445</td>\n",
       "      <td>0.251305</td>\n",
       "      <td>3.128246</td>\n",
       "      <td>1</td>\n",
       "      <td>1788</td>\n",
       "    </tr>\n",
       "    <tr>\n",
       "      <th>37</th>\n",
       "      <td>0.606085</td>\n",
       "      <td>5.105704</td>\n",
       "      <td>0.225433</td>\n",
       "      <td>5.937223</td>\n",
       "      <td>1</td>\n",
       "      <td>1838</td>\n",
       "    </tr>\n",
       "  </tbody>\n",
       "</table>\n",
       "</div>"
      ],
      "text/plain": [
       "      loss_d    loss_g    loss_l  total_loss  epoch  step\n",
       "0   1.384091  0.720452  0.410135    2.514678      0     0\n",
       "1   1.498564  0.457291  0.180140    2.135996      0    50\n",
       "2   1.106717  2.244968  0.141026    3.492712      0   100\n",
       "3   0.587643  3.466774  0.132609    4.187025      0   150\n",
       "4   0.845231  3.560330  0.158026    4.563586      0   200\n",
       "5   0.218299  4.292563  0.155153    4.666015      0   250\n",
       "6   0.032788  6.086048  0.100340    6.219176      0   300\n",
       "7   0.317984  2.814320  0.095803    3.228106      0   350\n",
       "8   0.788592  3.270352  0.110525    4.169469      0   400\n",
       "9   0.569604  3.839161  0.126040    4.534805      0   450\n",
       "10  0.305044  2.111643  0.099963    2.516649      0   500\n",
       "11  0.565340  1.281621  0.165577    2.012538      0   550\n",
       "12  0.316585  2.695642  0.143476    3.155703      0   600\n",
       "13  0.467158  1.467204  0.136858    2.071219      0   650\n",
       "14  0.317237  2.968140  0.122712    3.408089      0   700\n",
       "15  0.461122  3.363916  0.211449    4.036487      0   750\n",
       "16  1.064950  4.266216  0.256154    5.587320      0   800\n",
       "17  0.998725  2.685513  0.204655    3.888892      0   850\n",
       "18  1.246791  3.425756  0.240693    4.913239      0   900\n",
       "19  1.975786  0.167362  0.303403    2.446552      1   938\n",
       "20  0.275671  3.850541  0.213829    4.340041      1   988\n",
       "21  0.262778  2.098079  0.328641    2.689498      1  1038\n",
       "22  0.264374  3.045062  0.238569    3.548005      1  1088\n",
       "23  0.818758  1.099156  0.290810    2.208724      1  1138\n",
       "24  0.489599  1.245093  0.286418    2.021111      1  1188\n",
       "25  0.302739  4.013601  0.261315    4.577656      1  1238\n",
       "26  0.460970  3.221849  0.210399    3.893218      1  1288\n",
       "27  0.331452  3.192059  0.270766    3.794276      1  1338\n",
       "28  0.351363  1.074524  0.259757    1.685644      1  1388\n",
       "29  0.317270  4.410154  0.198843    4.926268      1  1438\n",
       "30  0.318504  2.353724  0.224802    2.897031      1  1488\n",
       "31  0.277021  3.064887  0.320708    3.662615      1  1538\n",
       "32  0.424774  2.648620  0.279663    3.353058      1  1588\n",
       "33  0.499658  2.973578  0.272172    3.745408      1  1638\n",
       "34  0.337168  3.250835  0.307190    3.895193      1  1688\n",
       "35  0.116845  3.411164  0.268604    3.796613      1  1738\n",
       "36  0.140495  2.736445  0.251305    3.128246      1  1788\n",
       "37  0.606085  5.105704  0.225433    5.937223      1  1838"
      ]
     },
     "execution_count": 11,
     "metadata": {},
     "output_type": "execute_result"
    }
   ],
   "source": [
    "train_hist"
   ]
  },
  {
   "cell_type": "code",
   "execution_count": 17,
   "metadata": {},
   "outputs": [],
   "source": [
    "idx = 10\n",
    "_, (img_tensors, target) = next(enumerate(test_loader))\n",
    "latent = alae.e(img_tensors[idx:idx + 1].reshape(1, 784).to(device))"
   ]
  },
  {
   "cell_type": "code",
   "execution_count": 18,
   "metadata": {},
   "outputs": [
    {
     "data": {
      "text/plain": [
       "tensor([[-0.5407, -0.0464, -2.9564,  0.0314, -1.5389,  0.0923,  0.2709, -1.2598,\n",
       "          1.2493,  3.2823,  0.5148, -1.2291, -2.2761,  0.9591,  0.6248,  0.8668,\n",
       "         -0.7551, -0.0759, -0.4497,  0.7420, -1.5529,  0.1094, -0.0795,  0.6834,\n",
       "          0.6150, -0.8763,  3.8834, -0.9034,  0.8540,  0.0394,  0.1213,  0.4808,\n",
       "          0.1393, -1.0758, -2.0098, -0.8384, -0.4340,  1.7335,  0.2579,  0.1300,\n",
       "         -0.8370, -3.6016,  3.0645, -0.0589,  1.1662,  0.2228,  0.0118,  0.8766,\n",
       "          1.0326,  0.3071]], device='cuda:0', grad_fn=<AddmmBackward>)"
      ]
     },
     "execution_count": 18,
     "metadata": {},
     "output_type": "execute_result"
    }
   ],
   "source": [
    "latent"
   ]
  },
  {
   "cell_type": "code",
   "execution_count": 32,
   "metadata": {},
   "outputs": [
    {
     "data": {
      "text/plain": [
       "<matplotlib.image.AxesImage at 0x1cf0d524cc8>"
      ]
     },
     "execution_count": 32,
     "metadata": {},
     "output_type": "execute_result"
    },
    {
     "data": {
      "image/png": "[encoded data removed]",
      "text/plain": [
       "<Figure size 432x288 with 1 Axes>"
      ]
     },
     "metadata": {
      "needs_background": "light"
     },
     "output_type": "display_data"
    }
   ],
   "source": [
    "gen_img = alae.g(latent).detach().cpu().numpy().reshape(28, 28)\n",
    "plt.imshow(np.clip(img_tensors[idx:idx + 1], 0, 1)[0][0], cmap='gray')"
   ]
  },
  {
   "cell_type": "code",
   "execution_count": 33,
   "metadata": {},
   "outputs": [
    {
     "data": {
      "text/plain": [
       "<matplotlib.image.AxesImage at 0x1cf0ee3a988>"
      ]
     },
     "execution_count": 33,
     "metadata": {},
     "output_type": "execute_result"
    },
    {
     "data": {
      "image/png": "[encoded data removed]",
      "text/plain": [
       "<Figure size 432x288 with 1 Axes>"
      ]
     },
     "metadata": {
      "needs_background": "light"
     },
     "output_type": "display_data"
    }
   ],
   "source": [
    "plt.imshow(np.clip(gen_img, 0, 1), cmap='gray')"
   ]
  },
  {
   "cell_type": "code",
   "execution_count": null,
   "metadata": {},
   "outputs": [],
   "source": []
  }
 ],
 "metadata": {
  "kernelspec": {
   "display_name": "Python 3.7.7 64-bit ('alae': conda)",
   "language": "python",
   "name": "python37764bitalaeconda36b2264203d942da8d98e3fe203ad7bd"
  },
  "language_info": {
   "codemirror_mode": {
    "name": "ipython",
    "version": 3
   },
   "file_extension": ".py",
   "mimetype": "text/x-python",
   "name": "python",
   "nbconvert_exporter": "python",
   "pygments_lexer": "ipython3",
   "version": "3.7.7"
  }
 },
 "nbformat": 4,
 "nbformat_minor": 4
}
