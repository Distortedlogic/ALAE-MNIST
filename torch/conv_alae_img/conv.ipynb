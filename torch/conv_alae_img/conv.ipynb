{
 "cells": [
  {
   "cell_type": "code",
   "execution_count": 1,
   "metadata": {},
   "outputs": [],
   "source": [
    "import torch\n",
    "import torchvision\n",
    "from alae import ALAE\n",
    "import numpy as np\n",
    "import matplotlib.pyplot as plt\n",
    "device = torch.device(\"cuda:0\" if torch.cuda.is_available() else \"cpu\")"
   ]
  },
  {
   "cell_type": "code",
   "execution_count": 2,
   "metadata": {},
   "outputs": [],
   "source": [
    "transform = torchvision.transforms.Compose([torchvision.transforms.ToTensor()])\n",
    "mnist_train = torchvision.datasets.MNIST(\n",
    "    '/files/',\n",
    "    train=True,\n",
    "    download=True,\n",
    "    transform=transform\n",
    ")\n",
    "\n",
    "mnist_test = torchvision.datasets.MNIST(\n",
    "    '/files/',\n",
    "    train=False,\n",
    "    download=True,\n",
    "    transform=transform\n",
    ")\n",
    "\n",
    "train_loader = torch.utils.data.DataLoader(mnist_train, batch_size=64, shuffle=True)\n",
    "test_loader = torch.utils.data.DataLoader(mnist_test, batch_size=64, shuffle=True)"
   ]
  },
  {
   "cell_type": "code",
   "execution_count": 3,
   "metadata": {},
   "outputs": [],
   "source": [
    "alae = ALAE()\n",
    "count = 0"
   ]
  },
  {
   "cell_type": "code",
   "execution_count": null,
   "metadata": {},
   "outputs": [
    {
     "name": "stderr",
     "output_type": "stream",
     "text": [
      "  8%|███████▉                                                                                           | 4/50 [02:47<32:08, 41.92s/it]"
     ]
    }
   ],
   "source": [
    "epochs = 50\n",
    "train_hist = alae.fit(train_loader, epochs = epochs)\n",
    "count += epochs\n",
    "print(count)\n",
    "torch.save(alae.state_dict(), './test.pt')\n",
    "train_hist.head()"
   ]
  },
  {
   "cell_type": "code",
   "execution_count": null,
   "metadata": {},
   "outputs": [],
   "source": [
    "train_hist.tail()"
   ]
  },
  {
   "cell_type": "code",
   "execution_count": null,
   "metadata": {},
   "outputs": [],
   "source": [
    "alae.load_state_dict(torch.load('./test.pt', map_location=device))\n",
    "alae.eval()\n",
    "print()"
   ]
  },
  {
   "cell_type": "code",
   "execution_count": null,
   "metadata": {},
   "outputs": [],
   "source": [
    "idxA, idxB = 1, 2\n",
    "_, (img_tensors, target) = next(enumerate(test_loader))\n",
    "nn_input = img_tensors.to(device)\n",
    "\n",
    "latentA = alae.encoder(nn_input[idxA: idxA + 1])\n",
    "gen_imgA = alae.generator(latentA).detach().cpu().numpy()[0, :784].reshape(28, 28)\n",
    "latentB = alae.encoder(nn_input[idxB: idxB + 1])\n",
    "gen_imgB = alae.generator(latentB).detach().cpu().numpy()[0, :784].reshape(28, 28)"
   ]
  },
  {
   "cell_type": "code",
   "execution_count": null,
   "metadata": {},
   "outputs": [],
   "source": [
    "plt.imshow(np.clip(img_tensors[idxA: idxA + 1], 0, 1)[0][0], cmap='gray')"
   ]
  },
  {
   "cell_type": "code",
   "execution_count": null,
   "metadata": {},
   "outputs": [],
   "source": [
    "plt.imshow(np.clip(gen_imgA, 0, 1), cmap='gray')"
   ]
  },
  {
   "cell_type": "code",
   "execution_count": null,
   "metadata": {},
   "outputs": [],
   "source": [
    "plt.imshow(np.clip(img_tensors[idxB: idxB + 1], 0, 1)[0][0], cmap='gray')"
   ]
  },
  {
   "cell_type": "code",
   "execution_count": null,
   "metadata": {},
   "outputs": [],
   "source": [
    "plt.imshow(np.clip(gen_imgB, 0, 1), cmap='gray')"
   ]
  },
  {
   "cell_type": "code",
   "execution_count": null,
   "metadata": {},
   "outputs": [],
   "source": [
    "num = 5\n",
    "delta = (latentB - latentA) / num\n",
    "fig, axs = plt.subplots(1, num + 1)\n",
    "\n",
    "latent = latentA.clone()\n",
    "for i in range(num + 1):\n",
    "    image = alae.generator(latent).detach().cpu().numpy()[0, :784].reshape(28, 28)\n",
    "    plt.setp(axs[i].get_xticklabels(), visible=False)\n",
    "    plt.setp(axs[i].get_yticklabels(), visible=False)\n",
    "    axs[i].imshow(np.clip(image, 0, 1), cmap='gray')\n",
    "    latent += delta\n",
    "\n",
    "plt.savefig('polymorph', bbox_inches='tight', pad_inches=0)"
   ]
  },
  {
   "cell_type": "code",
   "execution_count": null,
   "metadata": {},
   "outputs": [],
   "source": [
    "%matplotlib inline\n",
    "from ipywidgets import *\n",
    "import numpy as np\n",
    "import matplotlib.pyplot as plt\n",
    "\n",
    "\n",
    "def update(factor):\n",
    "    latent = latentA.clone()\n",
    "    image = alae.generator(latent + delta * factor).detach().cpu().numpy()[0, :784].reshape(28, 28)\n",
    "    plt.imshow(np.clip(image, 0, 1), cmap='gray')\n",
    "\n",
    "interact(update, factor = widgets.FloatSlider(value=0, min=0, max=num + 1, step=1))"
   ]
  },
  {
   "cell_type": "code",
   "execution_count": null,
   "metadata": {},
   "outputs": [],
   "source": []
  },
  {
   "cell_type": "code",
   "execution_count": null,
   "metadata": {},
   "outputs": [],
   "source": []
  }
 ],
 "metadata": {
  "kernelspec": {
   "display_name": "Python 3",
   "language": "python",
   "name": "python3"
  },
  "language_info": {
   "codemirror_mode": {
    "name": "ipython",
    "version": 3
   },
   "file_extension": ".py",
   "mimetype": "text/x-python",
   "name": "python",
   "nbconvert_exporter": "python",
   "pygments_lexer": "ipython3",
   "version": "3.7.7"
  }
 },
 "nbformat": 4,
 "nbformat_minor": 4
}
